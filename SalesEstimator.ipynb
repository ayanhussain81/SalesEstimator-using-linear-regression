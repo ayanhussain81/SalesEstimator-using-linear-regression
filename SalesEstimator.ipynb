{
  "nbformat": 4,
  "nbformat_minor": 0,
  "metadata": {
    "colab": {
      "name": "SalesEstimator.ipynb",
      "provenance": [],
      "collapsed_sections": [],
      "authorship_tag": "ABX9TyOmrNK6KYQ6kQLkB03GHBgj",
      "include_colab_link": true
    },
    "kernelspec": {
      "name": "python3",
      "display_name": "Python 3"
    },
    "language_info": {
      "name": "python"
    }
  },
  "cells": [
    {
      "cell_type": "markdown",
      "metadata": {
        "id": "view-in-github",
        "colab_type": "text"
      },
      "source": [
        "<a href=\"https://colab.research.google.com/github/ayanhussain81/SalesEstimator-using-linear-regression/blob/main/SalesEstimator.ipynb\" target=\"_parent\"><img src=\"https://colab.research.google.com/assets/colab-badge.svg\" alt=\"Open In Colab\"/></a>"
      ]
    },
    {
      "cell_type": "code",
      "metadata": {
        "id": "FxS4_JKjQq06"
      },
      "source": [
        "#importing the libraries\n",
        "import numpy as np \n",
        "import pandas as pd\n",
        "import seaborn as ans\n",
        "import matplotlib.pyplot as plt\n",
        "import pickle\n",
        "import os\n",
        "from sklearn.model_selection import train_test_split\n",
        "from sklearn.linear_model import  LinearRegression\n",
        "from sklearn.metrics import r2_score\n",
        "%matplotlib inline"
      ],
      "execution_count": null,
      "outputs": []
    },
    {
      "cell_type": "code",
      "metadata": {
        "colab": {
          "base_uri": "https://localhost:8080/"
        },
        "id": "O_11L07pXCes",
        "outputId": "24a065ea-e93f-4748-8608-90426a5275ad"
      },
      "source": [
        "from google.colab import drive \n",
        "drive.mount('/content/drive')"
      ],
      "execution_count": null,
      "outputs": [
        {
          "output_type": "stream",
          "name": "stdout",
          "text": [
            "Drive already mounted at /content/drive; to attempt to forcibly remount, call drive.mount(\"/content/drive\", force_remount=True).\n"
          ]
        }
      ]
    },
    {
      "cell_type": "code",
      "metadata": {
        "colab": {
          "base_uri": "https://localhost:8080/",
          "height": 203
        },
        "id": "OnqJ4YRqR98q",
        "outputId": "a311c42e-8962-4be8-a036-ae2f7afc57a1"
      },
      "source": [
        "path='/content/drive/MyDrive/Advertising_data.csv'\n",
        "data = pd.read_csv(path)\n",
        "data.head()"
      ],
      "execution_count": null,
      "outputs": [
        {
          "output_type": "execute_result",
          "data": {
            "text/html": [
              "<div>\n",
              "<style scoped>\n",
              "    .dataframe tbody tr th:only-of-type {\n",
              "        vertical-align: middle;\n",
              "    }\n",
              "\n",
              "    .dataframe tbody tr th {\n",
              "        vertical-align: top;\n",
              "    }\n",
              "\n",
              "    .dataframe thead th {\n",
              "        text-align: right;\n",
              "    }\n",
              "</style>\n",
              "<table border=\"1\" class=\"dataframe\">\n",
              "  <thead>\n",
              "    <tr style=\"text-align: right;\">\n",
              "      <th></th>\n",
              "      <th>TV</th>\n",
              "      <th>radio</th>\n",
              "      <th>newspaper</th>\n",
              "      <th>sales</th>\n",
              "    </tr>\n",
              "  </thead>\n",
              "  <tbody>\n",
              "    <tr>\n",
              "      <th>0</th>\n",
              "      <td>230.1</td>\n",
              "      <td>37.8</td>\n",
              "      <td>69.2</td>\n",
              "      <td>2210</td>\n",
              "    </tr>\n",
              "    <tr>\n",
              "      <th>1</th>\n",
              "      <td>44.5</td>\n",
              "      <td>39.3</td>\n",
              "      <td>45.1</td>\n",
              "      <td>1040</td>\n",
              "    </tr>\n",
              "    <tr>\n",
              "      <th>2</th>\n",
              "      <td>17.2</td>\n",
              "      <td>45.9</td>\n",
              "      <td>69.3</td>\n",
              "      <td>930</td>\n",
              "    </tr>\n",
              "    <tr>\n",
              "      <th>3</th>\n",
              "      <td>151.5</td>\n",
              "      <td>41.3</td>\n",
              "      <td>58.5</td>\n",
              "      <td>1850</td>\n",
              "    </tr>\n",
              "    <tr>\n",
              "      <th>4</th>\n",
              "      <td>180.8</td>\n",
              "      <td>10.8</td>\n",
              "      <td>58.4</td>\n",
              "      <td>1290</td>\n",
              "    </tr>\n",
              "  </tbody>\n",
              "</table>\n",
              "</div>"
            ],
            "text/plain": [
              "      TV  radio  newspaper  sales\n",
              "0  230.1   37.8       69.2   2210\n",
              "1   44.5   39.3       45.1   1040\n",
              "2   17.2   45.9       69.3    930\n",
              "3  151.5   41.3       58.5   1850\n",
              "4  180.8   10.8       58.4   1290"
            ]
          },
          "metadata": {},
          "execution_count": 6
        }
      ]
    },
    {
      "cell_type": "code",
      "metadata": {
        "id": "JP6DgbXochfo"
      },
      "source": [
        ""
      ],
      "execution_count": null,
      "outputs": []
    },
    {
      "cell_type": "markdown",
      "metadata": {
        "id": "wfDM1aKiciBI"
      },
      "source": [
        "# SIMPLR LINEAR REGRESSION "
      ]
    },
    {
      "cell_type": "code",
      "metadata": {
        "id": "Rc405kacU301"
      },
      "source": [
        "#Iniltializing the varibles\n",
        "X = data['TV'].values.reshape(-1,1)\n",
        "y=data['sales'].values.reshape(-1,1)"
      ],
      "execution_count": null,
      "outputs": []
    },
    {
      "cell_type": "code",
      "metadata": {
        "colab": {
          "base_uri": "https://localhost:8080/",
          "height": 497
        },
        "id": "OMb6rlHacxPk",
        "outputId": "c6655865-7eb3-4b90-919a-e939e7c26efc"
      },
      "source": [
        "plt.figure(figsize=(16,8))\n",
        "plt.scatter(X,y , c='black')\n",
        "plt.xlabel(\"Money spent on TV ads($)\")\n",
        "plt.ylabel(\"Sales ($)\")\n",
        "plt.show()"
      ],
      "execution_count": null,
      "outputs": [
        {
          "output_type": "display_data",
          "data": {
            "image/png": "[encoded data removed]",
            "text/plain": [
              "<Figure size 1152x576 with 1 Axes>"
            ]
          },
          "metadata": {
            "needs_background": "light"
          }
        }
      ]
    },
    {
      "cell_type": "code",
      "metadata": {
        "id": "qpyowDd5efra"
      },
      "source": [
        "#spliting our data into train and test datasets\n",
        "X_train , X_test, y_train , y_test = train_test_split(X,y , test_size= 0.3 , random_state=42)"
      ],
      "execution_count": null,
      "outputs": []
    },
    {
      "cell_type": "code",
      "metadata": {
        "id": "Dpo7m31OgD-Q"
      },
      "source": [
        "#Fitting linear regression to training set \n",
        "reg = LinearRegression()\n",
        "reg.fit(X_train,y_train)\n",
        "\n",
        "# prediction the test result \n",
        "y_pred = reg.predict(X_test)\n"
      ],
      "execution_count": null,
      "outputs": []
    },
    {
      "cell_type": "code",
      "metadata": {
        "colab": {
          "base_uri": "https://localhost:8080/",
          "height": 497
        },
        "id": "mJ3Khtvintzd",
        "outputId": "faf3d64e-ff52-4522-a931-3fdbbfdbf533"
      },
      "source": [
        "#plotting the prediction \n",
        "plt.figure(figsize=(16,8))\n",
        "plt.scatter(X,y, c='green')\n",
        "plt.plot(\n",
        "    X_test ,\n",
        "    y_pred,\n",
        "    c='blue',\n",
        "    linewidth= 2\n",
        ")\n",
        "\n",
        "plt.xlabel(\"Money spent on TV ads($)\")\n",
        "plt.ylabel(\"Sales ($)\")\n",
        "plt.show()"
      ],
      "execution_count": null,
      "outputs": [
        {
          "output_type": "display_data",
          "data": {
            "image/png": "[encoded data removed]",
            "text/plain": [
              "<Figure size 1152x576 with 1 Axes>"
            ]
          },
          "metadata": {
            "needs_background": "light"
          }
        }
      ]
    },
    {
      "cell_type": "code",
      "metadata": {
        "colab": {
          "base_uri": "https://localhost:8080/"
        },
        "id": "plrXHWDppz9a",
        "outputId": "327b9bd6-0ba0-4a65-fe92-800b4ae360b4"
      },
      "source": [
        "#calculating the coefficient\n",
        "reg.coef_"
      ],
      "execution_count": null,
      "outputs": [
        {
          "output_type": "execute_result",
          "data": {
            "text/plain": [
              "array([[4.64078021]])"
            ]
          },
          "metadata": {},
          "execution_count": 12
        }
      ]
    },
    {
      "cell_type": "code",
      "metadata": {
        "colab": {
          "base_uri": "https://localhost:8080/"
        },
        "id": "4OwKpIqwqleF",
        "outputId": "bff5e357-5384-4861-be21-4012f0bf118b"
      },
      "source": [
        "#Calculating the intercept \n",
        "reg.intercept_\n"
      ],
      "execution_count": null,
      "outputs": [
        {
          "output_type": "execute_result",
          "data": {
            "text/plain": [
              "array([723.94598308])"
            ]
          },
          "metadata": {},
          "execution_count": 13
        }
      ]
    },
    {
      "cell_type": "code",
      "metadata": {
        "colab": {
          "base_uri": "https://localhost:8080/"
        },
        "id": "yCKCbA7Uqv-B",
        "outputId": "cbd6a44b-25f4-49d7-ad62-6b0b2453f87c"
      },
      "source": [
        "#          Calculating the r sq value\n",
        "r2_score(y_test , y_pred)"
      ],
      "execution_count": null,
      "outputs": [
        {
          "output_type": "execute_result",
          "data": {
            "text/plain": [
              "0.6714477229302764"
            ]
          },
          "metadata": {},
          "execution_count": 14
        }
      ]
    },
    {
      "cell_type": "code",
      "metadata": {
        "colab": {
          "base_uri": "https://localhost:8080/"
        },
        "id": "t0X7kndVrHkI",
        "outputId": "d5916fe2-4a9a-4d26-f6ba-dfcad7d43120"
      },
      "source": [
        "output = reg.predict([[230.1]])\n",
        "output"
      ],
      "execution_count": null,
      "outputs": [
        {
          "output_type": "execute_result",
          "data": {
            "text/plain": [
              "array([[1791.78951004]])"
            ]
          },
          "metadata": {},
          "execution_count": 15
        }
      ]
    },
    {
      "cell_type": "markdown",
      "metadata": {
        "id": "1I6gfq_3sAOG"
      },
      "source": [
        "# MULTIPLE REGRESSION "
      ]
    },
    {
      "cell_type": "code",
      "metadata": {
        "id": "EUpmtWbZrQyC"
      },
      "source": [
        "#Iniltializing the varibles\n",
        "X = data.drop(['sales'],axis=1)\n",
        "y=data['sales'].values.reshape(-1,1)"
      ],
      "execution_count": null,
      "outputs": []
    },
    {
      "cell_type": "code",
      "metadata": {
        "id": "L1kJxpexsNp0"
      },
      "source": [
        "# spliting our data into train and test datasets\n",
        "X_train , X_test, y_train , y_test = train_test_split(X,y , test_size= 0.3 , random_state=42)"
      ],
      "execution_count": null,
      "outputs": []
    },
    {
      "cell_type": "code",
      "metadata": {
        "id": "pGiCyJRRsibX"
      },
      "source": [
        "#Fitting linear regression to training set \n",
        "multiple_reg = LinearRegression()\n",
        "multiple_reg.fit(X_train,y_train)\n",
        "\n",
        "# prediction the test result \n",
        "y_pred = multiple_reg.predict(X_test)\n"
      ],
      "execution_count": null,
      "outputs": []
    },
    {
      "cell_type": "code",
      "metadata": {
        "colab": {
          "base_uri": "https://localhost:8080/"
        },
        "id": "dytjRywLuw-_",
        "outputId": "3805a7cb-c0d4-45f6-f2a1-a11aae1710f6"
      },
      "source": [
        "#calculating the coefficient\n",
        "multiple_reg.coef_"
      ],
      "execution_count": null,
      "outputs": [
        {
          "output_type": "execute_result",
          "data": {
            "text/plain": [
              "array([[ 4.4059281 , 19.92874969,  0.68824522]])"
            ]
          },
          "metadata": {},
          "execution_count": 19
        }
      ]
    },
    {
      "cell_type": "code",
      "metadata": {
        "colab": {
          "base_uri": "https://localhost:8080/"
        },
        "id": "hJbR3vAUu0BB",
        "outputId": "a0274dc7-1514-4bc3-c7e4-8ec5645aae74"
      },
      "source": [
        "#Calculating the intercept \n",
        "multiple_reg.intercept_"
      ],
      "execution_count": null,
      "outputs": [
        {
          "output_type": "execute_result",
          "data": {
            "text/plain": [
              "array([270.89490925])"
            ]
          },
          "metadata": {},
          "execution_count": 20
        }
      ]
    },
    {
      "cell_type": "code",
      "metadata": {
        "colab": {
          "base_uri": "https://localhost:8080/"
        },
        "id": "SFESjXgXu4_9",
        "outputId": "50549669-44b2-4466-ace2-b09a3be17841"
      },
      "source": [
        "#          Calculating the r sq value\n",
        "r2_score(y_test , y_pred)"
      ],
      "execution_count": null,
      "outputs": [
        {
          "output_type": "execute_result",
          "data": {
            "text/plain": [
              "0.8609466508230368"
            ]
          },
          "metadata": {},
          "execution_count": 21
        }
      ]
    },
    {
      "cell_type": "code",
      "metadata": {
        "colab": {
          "base_uri": "https://localhost:8080/"
        },
        "id": "fF3rHGUjvETJ",
        "outputId": "f852c676-b482-4399-8bc3-c5c5b4e5bb10"
      },
      "source": [
        "#Taking the input from the user \n",
        "print(\"Enter the amount you will invest on:\")\n",
        "tv = float(input(\"TV : \"))\n",
        "radio = float(input(\"Radio : \"))\n",
        "newspaper = float(input(\"Newspaper : \"))\n",
        "\n",
        "#predicting the sales with respects to the input \n",
        "output = multiple_reg.predict([[tv , radio , newspaper]])\n",
        "print(\"you will get Rs {:.2f} sales by advertising Rs{} on TV, Rs{} on Radio and Rs{} on newspaper.\"\\\n",
        "      .format(output[0][0] if output else \"not predictable\",tv,radio,newspaper))"
      ],
      "execution_count": null,
      "outputs": [
        {
          "output_type": "stream",
          "name": "stdout",
          "text": [
            "Enter the amount you will invest on:\n",
            "TV : 7888\n",
            "Radio : 455\n",
            "Newspaper : 15555\n",
            "you will get Rs 54798.09 sales by advertising Rs7888.0 on TV, Rs455.0 on Radio and Rs15555.0 on newspaper.\n"
          ]
        }
      ]
    },
    {
      "cell_type": "markdown",
      "metadata": {
        "id": "uBNSMUbTzEJi"
      },
      "source": [
        "SAVING THE MODLE "
      ]
    },
    {
      "cell_type": "code",
      "metadata": {
        "id": "yHmzoSeWyj65"
      },
      "source": [
        "if not os.path.exists('models'):\n",
        "  os.makedirs('models')\n",
        "\n",
        "MODEL_PATH = \"models/mutliple_reg.sav\"\n",
        "pickle.dump(multiple_reg , open(MODEL_PATH , 'wb'))\n"
      ],
      "execution_count": null,
      "outputs": []
    }
  ]
}